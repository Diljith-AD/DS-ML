{
 "cells": [
  {
   "cell_type": "code",
   "execution_count": 3,
   "id": "5e6affce",
   "metadata": {},
   "outputs": [
    {
     "data": {
      "image/png": "[encoded data removed]",
      "text/plain": [
       "<Figure size 432x288 with 1 Axes>"
      ]
     },
     "metadata": {
      "needs_background": "light"
     },
     "output_type": "display_data"
    }
   ],
   "source": [
    "import matplotlib.pyplot as plt\n",
    "x=[5,7,8,7,2,17,2,9,4,11,12,9,6]\n",
    "y=[99,86,87,88,111,86,103,87,94,78,77,85,46]\n",
    "plt.scatter(x,y)\n",
    "plt.show()"
   ]
  },
  {
   "cell_type": "code",
   "execution_count": 98,
   "id": "b39b8598",
   "metadata": {},
   "outputs": [
    {
     "data": {
      "image/png": "[encoded data removed]",
      "text/plain": [
       "<Figure size 432x288 with 1 Axes>"
      ]
     },
     "metadata": {
      "needs_background": "light"
     },
     "output_type": "display_data"
    }
   ],
   "source": [
    "import numpy\n",
    "import matplotlib.pyplot as plt\n",
    "x=numpy.random.normal(5.0,1.0,1000)\n",
    "y=numpy.random.normal(10.0,2.0,1000)\n",
    "plt.scatter(x,y)\n",
    "plt.show()"
   ]
  },
  {
   "cell_type": "code",
   "execution_count": 3,
   "id": "878d51b8",
   "metadata": {},
   "outputs": [
    {
     "name": "stdout",
     "output_type": "stream",
     "text": [
      "   Unit Test-1  Unit Test-2\n",
      "0            5            7\n",
      "1            6            8\n",
      "2            8            9\n",
      "3            3            6\n",
      "4           10           15\n",
      "   Unit Test-1  Unit Test-2\n",
      "0            3            5\n",
      "1            3            9\n",
      "2            6            8\n",
      "3            6           10\n",
      "4            8           15\n",
      "Subtraction\n",
      "   Unit Test-1  Unit Test-2\n",
      "0            2            2\n",
      "1            3           -1\n",
      "2            2            1\n",
      "3           -3           -4\n",
      "4            2            0\n",
      "rsub\n",
      "   Unit Test-1  Unit Test-2\n",
      "0           -2           -2\n",
      "1           -3            1\n",
      "2           -2           -1\n",
      "3            3            4\n",
      "4           -2            0\n",
      "Addition\n",
      "   Unit Test-1  Unit Test-2\n",
      "0            8           12\n",
      "1            9           17\n",
      "2           14           17\n",
      "3            9           16\n",
      "4           18           30\n",
      "radd\n",
      "   Unit Test-1  Unit Test-2\n",
      "0            8           12\n",
      "1            9           17\n",
      "2           14           17\n",
      "3            9           16\n",
      "4           18           30\n",
      "Multiplication\n",
      "   Unit Test-1  Unit Test-2\n",
      "0           15           35\n",
      "1           18           72\n",
      "2           48           72\n",
      "3           18           60\n",
      "4           80          225\n",
      "Division\n",
      "   Unit Test-1  Unit Test-2\n",
      "0     1.666667     1.400000\n",
      "1     2.000000     0.888889\n",
      "2     1.333333     1.125000\n",
      "3     0.500000     0.600000\n",
      "4     1.250000     1.000000\n"
     ]
    }
   ],
   "source": [
    "import pandas as pd\n",
    "student={'Unit Test-1':[5,6,8,3,10],'Unit Test-2':[7,8,9,6,15]}\n",
    "student1={'Unit Test-1':[3,3,6,6,8],'Unit Test-2':[5,9,8,10,15]}\n",
    "ds=pd.DataFrame(student)\n",
    "ds1=pd.DataFrame(student1)\n",
    "print(ds)\n",
    "print(ds1)\n",
    "print('Subtraction')\n",
    "print(ds.sub(ds1))\n",
    "print('rsub')\n",
    "print(ds.rsub(ds1))\n",
    "print('Addition')\n",
    "print(ds.add(ds1))\n",
    "print('radd')\n",
    "print(ds.radd(ds1))\n",
    "print('Multiplication')\n",
    "print(ds.mul(ds1))\n",
    "print('Division')\n",
    "print(ds.div(ds1))"
   ]
  },
  {
   "cell_type": "code",
   "execution_count": 7,
   "id": "f1192daa",
   "metadata": {},
   "outputs": [
    {
     "name": "stdout",
     "output_type": "stream",
     "text": [
      "   roll_no    name\n",
      "0       10   Ankit\n",
      "1       11    Pihu\n",
      "2       12   Rinku\n",
      "3       13    Yash\n",
      "4       14   Vijay\n",
      "5       15  Nikhil\n",
      "   roll_no    name\n",
      "0        1    Renu\n",
      "1        2   Jatin\n",
      "2        3    Deep\n",
      "3        4   Guddu\n",
      "4        5  Chayya\n",
      "5        6   Sahil\n"
     ]
    }
   ],
   "source": [
    "import pandas as pd\n",
    "d1={'roll_no':[10,11,12,13,14,15],\n",
    "   'name':['Ankit','Pihu','Rinku','Yash','Vijay','Nikhil']}\n",
    "df1=pd.DataFrame(d1,columns=['roll_no','name'])\n",
    "print(df1)\n",
    "d2={'roll_no':[1,2,3,4,5,6],\n",
    "   'name':['Renu','Jatin','Deep','Guddu','Chayya','Sahil']}\n",
    "df2=pd.DataFrame(d2,columns=['roll_no','name'])\n",
    "print(df2)"
   ]
  },
  {
   "cell_type": "code",
   "execution_count": 23,
   "id": "9e170741",
   "metadata": {},
   "outputs": [
    {
     "name": "stdout",
     "output_type": "stream",
     "text": [
      "      Name Grade\n",
      "0   Rashmi    A1\n",
      "1    Harsh    A2\n",
      "2   Ganesh    B1\n",
      "3    Priya    A1\n",
      "4    Vivek    B2\n",
      "5    Anita    A2\n",
      "6  Karthik    A1\n"
     ]
    }
   ],
   "source": [
    "Grade={'Name':['Rashmi','Harsh','Ganesh','Priya','Vivek','Anita','Karthik'],\n",
    "      'Grade':['A1','A2','B1','A1','B2','A2','A1']}\n",
    "Gr=pd.DataFrame(Grade,columns=['Name','Grade'])\n",
    "print(Gr)"
   ]
  },
  {
   "cell_type": "code",
   "execution_count": 24,
   "id": "f769eef6",
   "metadata": {},
   "outputs": [
    {
     "name": "stdout",
     "output_type": "stream",
     "text": [
      "     Name Grade\n",
      "0  Rashmi    A1\n",
      "1   Harsh    A2\n",
      "2  Ganesh    B1\n",
      "3   Priya    A1\n",
      "4   Vivek    B2\n",
      "     Name Grade\n",
      "0  Rashmi    A1\n",
      "1   Harsh    A2\n",
      "2  Ganesh    B1\n",
      "3   Priya    A1\n",
      "4   Vivek    B2\n"
     ]
    }
   ],
   "source": [
    "out1=Gr.iloc[0:5]\n",
    "out2=Gr[0:5]\n",
    "print(out1)\n",
    "print(out2)\n"
   ]
  },
  {
   "cell_type": "code",
   "execution_count": 25,
   "id": "969a85e9",
   "metadata": {},
   "outputs": [
    {
     "name": "stdout",
     "output_type": "stream",
     "text": [
      "      Name Grade Percentage\n",
      "0   Rashmi    A1         92\n",
      "1    Harsh    A2         89\n",
      "2   Ganesh    B1       None\n",
      "3    Priya    A1         95\n",
      "4    Vivek    B2         68\n",
      "5    Anita    A2       None\n",
      "6  Karthik    A1         93\n"
     ]
    }
   ],
   "source": [
    "Gr['Percentage']=[92,89,'None',95,68,'None',93]\n",
    "print(Gr)"
   ]
  },
  {
   "cell_type": "code",
   "execution_count": 26,
   "id": "0c771b82",
   "metadata": {},
   "outputs": [
    {
     "name": "stdout",
     "output_type": "stream",
     "text": [
      "      Name Grade Percentage\n",
      "0   Rashmi    A1         92\n",
      "1    Harsh    A2         89\n",
      "2   Ganesh    B1       None\n",
      "3    Priya    A1         95\n",
      "4    Vivek    B2         68\n",
      "5    Anita    A2       None\n",
      "6  Karthik    A1         93\n"
     ]
    }
   ],
   "source": [
    "Gr[['Name','Percentage','Grade']]\n",
    "print(Gr)"
   ]
  },
  {
   "cell_type": "code",
   "execution_count": 28,
   "id": "0fe996d2",
   "metadata": {},
   "outputs": [
    {
     "name": "stdout",
     "output_type": "stream",
     "text": [
      "      Name Percentage\n",
      "0   Rashmi         92\n",
      "1    Harsh         89\n",
      "2   Ganesh       None\n",
      "3    Priya         95\n",
      "4    Vivek         68\n",
      "5    Anita       None\n",
      "6  Karthik         93\n"
     ]
    }
   ],
   "source": [
    "Gr=Gr.drop(columns='Grade')\n",
    "print(Gr)"
   ]
  },
  {
   "cell_type": "code",
   "execution_count": 31,
   "id": "6c23faca",
   "metadata": {},
   "outputs": [
    {
     "name": "stdout",
     "output_type": "stream",
     "text": [
      "      Name Percentage\n",
      "0   Rashmi         92\n",
      "1    Harsh         89\n",
      "2   Ganesh       None\n",
      "4    Vivek         68\n",
      "6  Karthik         93\n"
     ]
    }
   ],
   "source": [
    "Gr=Gr.drop([3,5])\n",
    "print(Gr)"
   ]
  }
 ],
 "metadata": {
  "kernelspec": {
   "display_name": "Python 3 (ipykernel)",
   "language": "python",
   "name": "python3"
  },
  "language_info": {
   "codemirror_mode": {
    "name": "ipython",
    "version": 3
   },
   "file_extension": ".py",
   "mimetype": "text/x-python",
   "name": "python",
   "nbconvert_exporter": "python",
   "pygments_lexer": "ipython3",
   "version": "3.9.12"
  }
 },
 "nbformat": 4,
 "nbformat_minor": 5
}
