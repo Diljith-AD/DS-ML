{
 "cells": [
  {
   "cell_type": "code",
   "execution_count": 1,
   "id": "ee0ebc09",
   "metadata": {
    "scrolled": true
   },
   "outputs": [
    {
     "name": "stdout",
     "output_type": "stream",
     "text": [
      "type:<class 'numpy.ndarray'>\n",
      "shape:3\n",
      "1 2 3\n",
      "[5 2 3]\n",
      "\n",
      " shape of b:%s (2, 3)\n",
      "1 2 4\n",
      "All zeroes matrix:\n",
      "[[0. 0.]\n",
      " [0. 0.]]\n",
      "\n",
      "All ones matrix:\n",
      "[[1. 1.]]\n",
      "\n",
      " identify matrix: \n",
      " [[1. 0.]\n",
      " [0. 1.]]\n",
      "\n",
      " random matrix: \n",
      " [[0.2002589  0.03348287]\n",
      " [0.37234962 0.08723105]]\n",
      "Vectorized sum example\n",
      "\n",
      "x:\n",
      "[[1 2]\n",
      " [3 4]]\n",
      "Sum:10\n",
      "Sum axis=0:[4 6]\n",
      "Sum axis=1:[3 7]\n",
      "Dot product:-1724114088\n",
      "\n",
      "\n",
      " Outer product:[[       0        0        0 ...        0        0        0]\n",
      " [       0        1        2 ...     9997     9998     9999]\n",
      " [       0        2        4 ...    19994    19996    19998]\n",
      " ...\n",
      " [       0     9997    19994 ... 99940009 99950006 99960003]\n",
      " [       0     9998    19996 ... 99950006 99960004 99970002]\n",
      " [       0     9999    19998 ... 99960003 99970002 99980001]]\n",
      "\n",
      "\n",
      " Element wise product:[       0        1        4 ... 99940009 99960004 99980001]\n",
      "\n"
     ]
    }
   ],
   "source": [
    "import numpy as np\n",
    "a=np.array([1,2,3])\n",
    "print(\"type:%s\"%type(a))\n",
    "print(\"shape:%s\"%a.shape)\n",
    "print(a[0],a[1],a[2])\n",
    "a[0]=5\n",
    "print(a)\n",
    "b=np.array([[1,2,3],[4,5,6]])\n",
    "print(\"\\n shape of b:%s\", b.shape)\n",
    "print(b[0,0],b[0,1],b[1,0])\n",
    "a=np.zeros((2,2))\n",
    "print(\"All zeroes matrix:\\n%s\"%a)\n",
    "b=np.ones((1,2))\n",
    "print(\"\\nAll ones matrix:\\n%s\"%b)\n",
    "d=np.eye(2)\n",
    "print(\"\\n identify matrix: \\n %s\"%d)\n",
    "e=np.random.random((2,2))\n",
    "print(\"\\n random matrix: \\n %s\"%e)\n",
    "print(\"Vectorized sum example\\n\")\n",
    "x=np.array([[1,2],[3,4]])\n",
    "print(\"x:\\n%s\"%x)\n",
    "print(\"Sum:%s\"%np.sum(x))\n",
    "print(\"Sum axis=0:%s\"%np.sum(x,axis=0))\n",
    "print(\"Sum axis=1:%s\"%np.sum(x,axis=1))\n",
    "a=np.arange(10000)\n",
    "b=np.arange(10000)\n",
    "dp=np.dot(a,b)\n",
    "print(\"Dot product:%s\\n\"%dp)\n",
    "op=np.outer(a,b)\n",
    "print(\"\\n Outer product:%s\\n\"%op)\n",
    "ep=np.multiply(a,b)\n",
    "print(\"\\n Element wise product:%s\\n\"%ep)\n",
    "\n"
   ]
  },
  {
   "cell_type": "code",
   "execution_count": 7,
   "id": "ecbe2fd2",
   "metadata": {
    "scrolled": true
   },
   "outputs": [
    {
     "name": "stdout",
     "output_type": "stream",
     "text": [
      "Original x:\n",
      "[[1 2]\n",
      " [3 4]]\n",
      "\n",
      "Transpose of x:\n",
      "[[1 3]\n",
      " [2 4]]\n"
     ]
    }
   ],
   "source": [
    "#Matrix Transformation\n",
    "import numpy as np\n",
    "x=np.array([[1,2],[3,4]])\n",
    "print(\"Original x:\\n%s\"%x)\n",
    "print(\"\\nTranspose of x:\\n%s\"%x.T)"
   ]
  },
  {
   "cell_type": "code",
   "execution_count": 20,
   "id": "2f7d1f6e",
   "metadata": {},
   "outputs": [
    {
     "name": "stdout",
     "output_type": "stream",
     "text": [
      "A:\n",
      "[[1 2]\n",
      " [3 4]\n",
      " [5 6]]\n",
      "\n",
      "U:\n",
      "[[-0.2298477   0.88346102  0.40824829]\n",
      " [-0.52474482  0.24078249 -0.81649658]\n",
      " [-0.81964194 -0.40189603  0.40824829]]\n",
      "\n",
      "S:\n",
      "[9.52551809 0.51430058]\n",
      "\n",
      "V T:\n",
      "[[-0.61962948 -0.78489445]\n",
      " [-0.78489445  0.61962948]]\n"
     ]
    }
   ],
   "source": [
    "#SVD using Python\n",
    "from numpy import array\n",
    "from scipy.linalg import svd\n",
    "A=array([[1,2],[3,4],[5,6]])\n",
    "print(\"A:\\n%s\"%A)\n",
    "U,S,VT=svd(A)\n",
    "print(\"\\nU:\\n%s\"%U)\n",
    "print(\"\\nS:\\n%s\"%S)\n",
    "print(\"\\nV T:\\n%s\"%VT)"
   ]
  },
  {
   "cell_type": "code",
   "execution_count": 1,
   "id": "02a9349b",
   "metadata": {},
   "outputs": [
    {
     "data": {
      "image/png": "[encoded data removed]",
      "text/plain": [
       "<Figure size 432x288 with 1 Axes>"
      ]
     },
     "metadata": {
      "needs_background": "light"
     },
     "output_type": "display_data"
    }
   ],
   "source": [
    "import matplotlib.pyplot as plt\n",
    "plt.plot([1,2,3],[5,7,4])\n",
    "plt.show()"
   ]
  },
  {
   "cell_type": "code",
   "execution_count": 3,
   "id": "93531100",
   "metadata": {},
   "outputs": [
    {
     "data": {
      "image/png": "[encoded data removed]",
      "text/plain": [
       "<Figure size 432x288 with 1 Axes>"
      ]
     },
     "metadata": {
      "needs_background": "light"
     },
     "output_type": "display_data"
    }
   ],
   "source": [
    "import matplotlib.pyplot as plt\n",
    "x=[1,2,3]\n",
    "y=[5,7,4]\n",
    "plt.plot(x,y,label= 'First line')\n",
    "x2=[1,2,3]\n",
    "y2=[10,11,14]\n",
    "plt.plot(x2,y2,label='Second line')\n",
    "plt.xlabel('Plot number')\n",
    "plt.ylabel('Important variables')\n",
    "plt.title('New Graph')\n",
    "plt.legend()\n",
    "\n",
    "plt.show()"
   ]
  },
  {
   "cell_type": "code",
   "execution_count": 12,
   "id": "c93370d0",
   "metadata": {
    "scrolled": true
   },
   "outputs": [
    {
     "data": {
      "image/png": "[encoded data removed]",
      "text/plain": [
       "<Figure size 432x288 with 2 Axes>"
      ]
     },
     "metadata": {
      "needs_background": "light"
     },
     "output_type": "display_data"
    }
   ],
   "source": [
    "import matplotlib.pyplot as plt\n",
    "import numpy as np\n",
    "\n",
    "t=np.arange(0.0,20.0,1)\n",
    "s=[1,2,3,4,5,6,7,8,9,10,11,12,13,14,15,16,17,18,19,20]\n",
    "s2=[8,9,10,11,12,13,14,15,16,17,18,19,20,21,22,23,24,25,26,27]\n",
    "\n",
    "plt.subplot(2,1,1)\n",
    "plt.ylabel('Value')\n",
    "plt.title('First chart')\n",
    "plt.grid(True)\n",
    "plt.plot(t,s)\n",
    "plt.subplots_adjust(hspace=0.4, wspace=0.4)\n",
    "#two subplot\n",
    "plt.subplot(2,1,2)\n",
    "plt.xlabel('Item (s)')\n",
    "plt.ylabel('Value')\n",
    "plt.title('Second chart')\n",
    "plt.plot(t,s2)\n",
    "plt.grid(True)\n",
    "plt.show()"
   ]
  },
  {
   "cell_type": "code",
   "execution_count": 5,
   "id": "d505a1e8",
   "metadata": {
    "scrolled": true
   },
   "outputs": [
    {
     "name": "stdout",
     "output_type": "stream",
     "text": [
      "0\n",
      "1\n",
      "2\n",
      "3\n",
      "4\n",
      "5\n",
      "6\n",
      "7\n",
      "8\n",
      "9\n",
      "10\n"
     ]
    }
   ],
   "source": [
    "for i in range(11):\n",
    "    print(i)"
   ]
  },
  {
   "cell_type": "code",
   "execution_count": 6,
   "id": "596cab6c",
   "metadata": {},
   "outputs": [
    {
     "name": "stdout",
     "output_type": "stream",
     "text": [
      "2\n",
      "3\n",
      "4\n",
      "5\n",
      "6\n",
      "7\n",
      "8\n",
      "9\n",
      "10\n"
     ]
    }
   ],
   "source": [
    "for i in range(2,11):\n",
    "    print(i)"
   ]
  },
  {
   "cell_type": "code",
   "execution_count": 7,
   "id": "ac94efaf",
   "metadata": {},
   "outputs": [
    {
     "name": "stdout",
     "output_type": "stream",
     "text": [
      "1\n",
      "3\n",
      "5\n",
      "7\n",
      "9\n"
     ]
    }
   ],
   "source": [
    "for i in range(1,11,2):\n",
    "    print(i)"
   ]
  },
  {
   "cell_type": "code",
   "execution_count": 8,
   "id": "5e45c6d7",
   "metadata": {},
   "outputs": [
    {
     "name": "stdout",
     "output_type": "stream",
     "text": [
      "[1 4 7]\n"
     ]
    }
   ],
   "source": [
    "import numpy as np\n",
    "x=np.arange(1,10,3)\n",
    "print(x)"
   ]
  },
  {
   "cell_type": "code",
   "execution_count": 9,
   "id": "2e5b8ca4",
   "metadata": {},
   "outputs": [
    {
     "name": "stdout",
     "output_type": "stream",
     "text": [
      "[0 1 2 3 4 5 6 7 8 9]\n"
     ]
    }
   ],
   "source": [
    "x=np.arange(10)\n",
    "print(x)"
   ]
  },
  {
   "cell_type": "code",
   "execution_count": 10,
   "id": "a2ef1740",
   "metadata": {},
   "outputs": [
    {
     "name": "stdout",
     "output_type": "stream",
     "text": [
      "[1 2 3 4 5 6 7 8 9]\n"
     ]
    }
   ],
   "source": [
    "x=np.arange(1,10)\n",
    "print(x)"
   ]
  }
 ],
 "metadata": {
  "kernelspec": {
   "display_name": "Python 3 (ipykernel)",
   "language": "python",
   "name": "python3"
  },
  "language_info": {
   "codemirror_mode": {
    "name": "ipython",
    "version": 3
   },
   "file_extension": ".py",
   "mimetype": "text/x-python",
   "name": "python",
   "nbconvert_exporter": "python",
   "pygments_lexer": "ipython3",
   "version": "3.9.12"
  }
 },
 "nbformat": 4,
 "nbformat_minor": 5
}
