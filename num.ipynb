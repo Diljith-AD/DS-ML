{
 "cells": [
  {
   "cell_type": "code",
   "execution_count": 6,
   "id": "67cbe5fd",
   "metadata": {},
   "outputs": [
    {
     "name": "stdout",
     "output_type": "stream",
     "text": [
      "[1 2 3 4 5]\n"
     ]
    }
   ],
   "source": [
    "import numpy as np\n",
    "arr=np.array([1,2,3,4,5])\n",
    "print(arr)"
   ]
  },
  {
   "cell_type": "code",
   "execution_count": 21,
   "id": "d0d1353e",
   "metadata": {},
   "outputs": [
    {
     "name": "stdout",
     "output_type": "stream",
     "text": [
      "[[1 2 3 4]\n",
      " [5 6 7 8]]\n",
      "2\n",
      "8\n",
      "5\n",
      "(2, 4)\n",
      "1\n",
      "2\n",
      "3\n",
      "4\n",
      "5\n",
      "6\n",
      "7\n",
      "8\n"
     ]
    }
   ],
   "source": [
    "arr=np.array([[1,2,3,4],[5,6,7,8]])\n",
    "print(arr)\n",
    "print(arr[0,1])\n",
    "print(arr[1,-1])\n",
    "print(arr[-1,0])\n",
    "print(arr.shape)\n",
    "for x in arr:\n",
    "    for y in x:\n",
    "        print(y)"
   ]
  },
  {
   "cell_type": "code",
   "execution_count": 27,
   "id": "7ea38dcd",
   "metadata": {},
   "outputs": [
    {
     "name": "stdout",
     "output_type": "stream",
     "text": [
      "1\n",
      "2\n",
      "3\n",
      "4\n"
     ]
    }
   ],
   "source": [
    "arr=np.array([1,2,3,4])\n",
    "for x in arr:\n",
    "    print(x)   "
   ]
  },
  {
   "cell_type": "code",
   "execution_count": 29,
   "id": "de6e1a4c",
   "metadata": {},
   "outputs": [
    {
     "name": "stdout",
     "output_type": "stream",
     "text": [
      "[1 2 3 4 5 6 7 8]\n"
     ]
    }
   ],
   "source": [
    "arr1=np.array([1,2,3,4])\n",
    "arr2=np.array([5,6,7,8])\n",
    "arr3=np.concatenate((arr1,arr2))\n",
    "print(arr3)"
   ]
  },
  {
   "cell_type": "code",
   "execution_count": 46,
   "id": "d6bbee88",
   "metadata": {},
   "outputs": [
    {
     "name": "stdout",
     "output_type": "stream",
     "text": [
      "[[1 2 5]\n",
      " [3 4 7]\n",
      " [5 6 9]\n",
      " [7 8 5]]\n"
     ]
    }
   ],
   "source": [
    "arr1=np.array([[1,2,5],[3,4,7]])\n",
    "arr2=np.array([[5,6,9],[7,8,5]])\n",
    "arr3=np.concatenate((arr1,arr2),axis=0)\n",
    "print(arr3)"
   ]
  },
  {
   "cell_type": "code",
   "execution_count": 245,
   "id": "5b5b5e06",
   "metadata": {},
   "outputs": [
    {
     "name": "stdout",
     "output_type": "stream",
     "text": [
      "[4 5 6 6 7 7 8 9]\n"
     ]
    }
   ],
   "source": [
    "arr1=np.array([4,5,6,7])\n",
    "arr2=np.array([6,7,8,9])\n",
    "arr3=np.concatenate((arr1,arr2))\n",
    "arr4=np.sort(arr3)\n",
    "print(arr4)"
   ]
  },
  {
   "cell_type": "code",
   "execution_count": 247,
   "id": "34bf2526",
   "metadata": {},
   "outputs": [
    {
     "name": "stdout",
     "output_type": "stream",
     "text": [
      "73\n"
     ]
    }
   ],
   "source": [
    "import numpy as np\n",
    "x=random.randint(100)\n",
    "print(x)"
   ]
  },
  {
   "cell_type": "code",
   "execution_count": 173,
   "id": "7dd850f6",
   "metadata": {},
   "outputs": [
    {
     "name": "stdout",
     "output_type": "stream",
     "text": [
      "38\n"
     ]
    }
   ],
   "source": [
    "from numpy import random\n",
    "x=random.randint(100)\n",
    "print(x)"
   ]
  },
  {
   "cell_type": "code",
   "execution_count": 195,
   "id": "7c8f61c0",
   "metadata": {},
   "outputs": [
    {
     "name": "stdout",
     "output_type": "stream",
     "text": [
      "[[0.55189403 0.77787212 0.1270592  0.34364888 0.8410495 ]\n",
      " [0.38660357 0.66462262 0.60775006 0.16774696 0.5043319 ]\n",
      " [0.89850134 0.20829635 0.81426187 0.31061117 0.97005152]]\n"
     ]
    }
   ],
   "source": [
    "x=random.rand(3,5)\n",
    "print(x)"
   ]
  },
  {
   "cell_type": "code",
   "execution_count": 210,
   "id": "9f2b2a71",
   "metadata": {},
   "outputs": [
    {
     "name": "stdout",
     "output_type": "stream",
     "text": [
      "0.16021597932669707\n"
     ]
    }
   ],
   "source": [
    "x=random.rand()\n",
    "print(x)"
   ]
  },
  {
   "cell_type": "code",
   "execution_count": 240,
   "id": "6b6c6e08",
   "metadata": {},
   "outputs": [
    {
     "name": "stdout",
     "output_type": "stream",
     "text": [
      "[[19 94 70 15 67]\n",
      " [40 38 66 65 25]\n",
      " [93 96 47 23  3]\n",
      " [16 22 92 66 52]]\n"
     ]
    }
   ],
   "source": [
    "x=random.randint(100,size=(4,5))\n",
    "print(x)"
   ]
  },
  {
   "cell_type": "code",
   "execution_count": 242,
   "id": "9a9099eb",
   "metadata": {},
   "outputs": [
    {
     "name": "stdout",
     "output_type": "stream",
     "text": [
      "[0.75345999 0.08873387 0.85956884 0.80983214 0.18866064 0.47379787\n",
      " 0.23535489 0.74534809 0.01708907 0.61189905 0.10682591 0.8696328\n",
      " 0.17629744 0.44052047 0.32245402 0.19530659 0.13602895 0.56003799\n",
      " 0.78903717 0.89415265]\n"
     ]
    }
   ],
   "source": [
    "x=random.rand(20)\n",
    "print(x)"
   ]
  },
  {
   "cell_type": "code",
   "execution_count": 244,
   "id": "ecd9fef1",
   "metadata": {},
   "outputs": [
    {
     "name": "stdout",
     "output_type": "stream",
     "text": [
      "[[1 2]\n",
      " [2 3]]\n"
     ]
    }
   ],
   "source": [
    "import numpy as np\n",
    "arr=np.array([1,2,2,3])\n",
    "arr1=arr.reshape(2,2)\n",
    "print(arr1)"
   ]
  },
  {
   "cell_type": "code",
   "execution_count": 29,
   "id": "79dac9b8",
   "metadata": {
    "scrolled": false
   },
   "outputs": [
    {
     "name": "stdout",
     "output_type": "stream",
     "text": [
      "[[1 2 3]\n",
      " [5 6 7]]\n",
      "\n",
      "[[ 1  3  6]\n",
      " [ 5  7  9]\n",
      " [ 9 11 13]]\n",
      "\n",
      "[[13 12 11 10  9]\n",
      " [ 9  8  7  6  5]\n",
      " [ 6  4  3  2  1]]\n",
      "\n",
      "[1 5 9]\n",
      "\n",
      "[1 2 3 4 6]\n",
      "\n",
      "[1 2 3 4 6]\n",
      "\n",
      "[[ 1  2  3  4  6]\n",
      " [ 5  6  7  8  9]\n",
      " [ 9 10 11 12 13]]\n"
     ]
    }
   ],
   "source": [
    "import numpy as np\n",
    "arr=np.array([[1,2,3,4,6],[5,6,7,8,9],[9,10,11,12,13]])\n",
    "print(arr[:2,:3]) # starts from the 0th row and ends with the 2nd column (contains all elements between them)\n",
    "print()\n",
    "print(arr[:3,::2])# here the ::2 is used to skip places \n",
    "print()\n",
    "print(arr[::-1,::-1])\n",
    "print()\n",
    "print(arr[:,0])\n",
    "print()\n",
    "print(arr[0,:])\n",
    "print()\n",
    "print(arr[0])\n",
    "print()\n",
    "print(arr[:,:])\n"
   ]
  },
  {
   "cell_type": "code",
   "execution_count": null,
   "id": "46463c7e",
   "metadata": {},
   "outputs": [],
   "source": []
  }
 ],
 "metadata": {
  "kernelspec": {
   "display_name": "Python 3 (ipykernel)",
   "language": "python",
   "name": "python3"
  },
  "language_info": {
   "codemirror_mode": {
    "name": "ipython",
    "version": 3
   },
   "file_extension": ".py",
   "mimetype": "text/x-python",
   "name": "python",
   "nbconvert_exporter": "python",
   "pygments_lexer": "ipython3",
   "version": "3.9.12"
  }
 },
 "nbformat": 4,
 "nbformat_minor": 5
}
